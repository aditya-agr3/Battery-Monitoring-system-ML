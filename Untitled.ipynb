{
 "cells": [
  {
   "cell_type": "code",
   "execution_count": 4,
   "id": "12eb26c4",
   "metadata": {},
   "outputs": [
    {
     "name": "stderr",
     "output_type": "stream",
     "text": [
      "c:\\users\\hp\\appdata\\local\\programs\\python\\python37\\lib\\site-packages\\sklearn\\base.py:451: UserWarning: X does not have valid feature names, but RandomForestRegressor was fitted with feature names\n",
      "  \"X does not have valid feature names, but\"\n"
     ]
    },
    {
     "name": "stdout",
     "output_type": "stream",
     "text": [
      "[6214.73642 1096.621  ]\n",
      "\n",
      "\n",
      "Approximate Charging Time:103.00\n",
      "\n",
      "\n",
      "Approximate RUL:1096.62\n"
     ]
    }
   ],
   "source": [
    "import pickle\n",
    "mod=pickle.load(open(\"new_rf.pkl\",\"rb\"))\n",
    "res=mod.predict([[7.0,3301.18,1194.2350769230688,3.674,3.504,5023.6336363636365,5977.38]])[0]\n",
    "print(res)\n",
    "charge_time=res[0]//60\n",
    "rull=res[1]\n",
    "# print(charge_time)\n",
    "print(f'\\n\\nApproximate Charging Time:{charge_time:.2f}')\n",
    "print(f'\\n\\nApproximate RUL:{rull:.2f}')"
   ]
  },
  {
   "cell_type": "code",
   "execution_count": null,
   "id": "3a0795ed",
   "metadata": {},
   "outputs": [],
   "source": []
  }
 ],
 "metadata": {
  "kernelspec": {
   "display_name": "Python 3 (ipykernel)",
   "language": "python",
   "name": "python3"
  },
  "language_info": {
   "codemirror_mode": {
    "name": "ipython",
    "version": 3
   },
   "file_extension": ".py",
   "mimetype": "text/x-python",
   "name": "python",
   "nbconvert_exporter": "python",
   "pygments_lexer": "ipython3",
   "version": "3.7.1"
  }
 },
 "nbformat": 4,
 "nbformat_minor": 5
}
